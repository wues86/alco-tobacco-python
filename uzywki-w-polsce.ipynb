{
 "cells": [
  {
   "cell_type": "markdown",
   "metadata": {},
   "source": [
    "importujemy biblioteki"
   ]
  },
  {
   "cell_type": "code",
   "execution_count": 14,
   "metadata": {},
   "outputs": [],
   "source": [
    "import pandas as pd\n",
    "import matplotlib.pyplot as plt"
   ]
  },
  {
   "cell_type": "markdown",
   "metadata": {},
   "source": [
    "tworzymy listy wartości pobranych ze stat.gov.pl"
   ]
  },
  {
   "cell_type": "code",
   "execution_count": null,
   "metadata": {},
   "outputs": [],
   "source": [
    "rok=['2004','2005','2006','2007','2008','2009','2010','2011','2012','2013','2014','2015','2016']\n",
    "dochody=[2409.69,2506.93,2636.81,2866.04,3158.48,3315.38,3435.00,3625.21,3744.38,3877.43,4003.99,4150.88,4290.52]\n",
    "wodka=[20.80,19.62,18.41,18.09,18.61,19.50,19.59,19.90,20.27,20.37,21.67,25.06,24.55]\n",
    "fajki=[4.88,5.26,5.6,5.99,6.72,8.03,9.24,10.21,11.27,11.96,12.48,12.82,13.40]\n",
    "benzyna=[3.76,4.03,4.00,4.25,4.36,4.18,4.59,5.14,5.73,5.51,5.30,4.65,4.37]"
   ]
  },
  {
   "cell_type": "markdown",
   "metadata": {},
   "source": [
    "tworzymy z nich 1 listę i wyświetlamy ją"
   ]
  },
  {
   "cell_type": "code",
   "execution_count": 7,
   "metadata": {},
   "outputs": [
    {
     "name": "stdout",
     "output_type": "stream",
     "text": [
      "{'rok': ['2004', '2005', '2006', '2007', '2008', '2009', '2010', '2011', '2012', '2013', '2014', '2015', '2016'], 'dochod': [2409.69, 2506.93, 2636.81, 2866.04, 3158.48, 3315.38, 3435.0, 3625.21, 3744.38, 3877.43, 4003.99, 4150.88, 4290.52], 'wodka': [20.8, 19.62, 18.41, 18.09, 18.61, 19.5, 19.59, 19.9, 20.27, 20.37, 21.67, 25.06, 24.55], 'papierosy': [4.88, 5.26, 5.6, 5.99, 6.72, 8.03, 9.24, 10.21, 11.27, 11.96, 12.48, 12.82, 13.4], 'benzyna': [3.76, 4.03, 4.0, 4.25, 4.36, 4.18, 4.59, 5.14, 5.73, 5.51, 5.3, 4.65, 4.37]}\n"
     ]
    }
   ],
   "source": [
    "baza = { 'rok':rok, 'dochod':dochody, 'wodka':wodka, 'papierosy':fajki, 'benzyna':benzyna }\n",
    "baza\n",
    "print(baza)"
   ]
  },
  {
   "cell_type": "markdown",
   "metadata": {},
   "source": [
    "tworzymy i wyświetlamy dataframe"
   ]
  },
  {
   "cell_type": "code",
   "execution_count": 8,
   "metadata": {},
   "outputs": [
    {
     "data": {
      "text/html": [
       "<div>\n",
       "<style scoped>\n",
       "    .dataframe tbody tr th:only-of-type {\n",
       "        vertical-align: middle;\n",
       "    }\n",
       "\n",
       "    .dataframe tbody tr th {\n",
       "        vertical-align: top;\n",
       "    }\n",
       "\n",
       "    .dataframe thead th {\n",
       "        text-align: right;\n",
       "    }\n",
       "</style>\n",
       "<table border=\"1\" class=\"dataframe\">\n",
       "  <thead>\n",
       "    <tr style=\"text-align: right;\">\n",
       "      <th></th>\n",
       "      <th>benzyna</th>\n",
       "      <th>dochod</th>\n",
       "      <th>papierosy</th>\n",
       "      <th>rok</th>\n",
       "      <th>wodka</th>\n",
       "    </tr>\n",
       "  </thead>\n",
       "  <tbody>\n",
       "    <tr>\n",
       "      <th>0</th>\n",
       "      <td>3.76</td>\n",
       "      <td>2409.69</td>\n",
       "      <td>4.88</td>\n",
       "      <td>2004</td>\n",
       "      <td>20.80</td>\n",
       "    </tr>\n",
       "    <tr>\n",
       "      <th>1</th>\n",
       "      <td>4.03</td>\n",
       "      <td>2506.93</td>\n",
       "      <td>5.26</td>\n",
       "      <td>2005</td>\n",
       "      <td>19.62</td>\n",
       "    </tr>\n",
       "    <tr>\n",
       "      <th>2</th>\n",
       "      <td>4.00</td>\n",
       "      <td>2636.81</td>\n",
       "      <td>5.60</td>\n",
       "      <td>2006</td>\n",
       "      <td>18.41</td>\n",
       "    </tr>\n",
       "    <tr>\n",
       "      <th>3</th>\n",
       "      <td>4.25</td>\n",
       "      <td>2866.04</td>\n",
       "      <td>5.99</td>\n",
       "      <td>2007</td>\n",
       "      <td>18.09</td>\n",
       "    </tr>\n",
       "    <tr>\n",
       "      <th>4</th>\n",
       "      <td>4.36</td>\n",
       "      <td>3158.48</td>\n",
       "      <td>6.72</td>\n",
       "      <td>2008</td>\n",
       "      <td>18.61</td>\n",
       "    </tr>\n",
       "    <tr>\n",
       "      <th>5</th>\n",
       "      <td>4.18</td>\n",
       "      <td>3315.38</td>\n",
       "      <td>8.03</td>\n",
       "      <td>2009</td>\n",
       "      <td>19.50</td>\n",
       "    </tr>\n",
       "    <tr>\n",
       "      <th>6</th>\n",
       "      <td>4.59</td>\n",
       "      <td>3435.00</td>\n",
       "      <td>9.24</td>\n",
       "      <td>2010</td>\n",
       "      <td>19.59</td>\n",
       "    </tr>\n",
       "    <tr>\n",
       "      <th>7</th>\n",
       "      <td>5.14</td>\n",
       "      <td>3625.21</td>\n",
       "      <td>10.21</td>\n",
       "      <td>2011</td>\n",
       "      <td>19.90</td>\n",
       "    </tr>\n",
       "    <tr>\n",
       "      <th>8</th>\n",
       "      <td>5.73</td>\n",
       "      <td>3744.38</td>\n",
       "      <td>11.27</td>\n",
       "      <td>2012</td>\n",
       "      <td>20.27</td>\n",
       "    </tr>\n",
       "    <tr>\n",
       "      <th>9</th>\n",
       "      <td>5.51</td>\n",
       "      <td>3877.43</td>\n",
       "      <td>11.96</td>\n",
       "      <td>2013</td>\n",
       "      <td>20.37</td>\n",
       "    </tr>\n",
       "    <tr>\n",
       "      <th>10</th>\n",
       "      <td>5.30</td>\n",
       "      <td>4003.99</td>\n",
       "      <td>12.48</td>\n",
       "      <td>2014</td>\n",
       "      <td>21.67</td>\n",
       "    </tr>\n",
       "    <tr>\n",
       "      <th>11</th>\n",
       "      <td>4.65</td>\n",
       "      <td>4150.88</td>\n",
       "      <td>12.82</td>\n",
       "      <td>2015</td>\n",
       "      <td>25.06</td>\n",
       "    </tr>\n",
       "    <tr>\n",
       "      <th>12</th>\n",
       "      <td>4.37</td>\n",
       "      <td>4290.52</td>\n",
       "      <td>13.40</td>\n",
       "      <td>2016</td>\n",
       "      <td>24.55</td>\n",
       "    </tr>\n",
       "  </tbody>\n",
       "</table>\n",
       "</div>"
      ],
      "text/plain": [
       "    benzyna   dochod  papierosy   rok  wodka\n",
       "0      3.76  2409.69       4.88  2004  20.80\n",
       "1      4.03  2506.93       5.26  2005  19.62\n",
       "2      4.00  2636.81       5.60  2006  18.41\n",
       "3      4.25  2866.04       5.99  2007  18.09\n",
       "4      4.36  3158.48       6.72  2008  18.61\n",
       "5      4.18  3315.38       8.03  2009  19.50\n",
       "6      4.59  3435.00       9.24  2010  19.59\n",
       "7      5.14  3625.21      10.21  2011  19.90\n",
       "8      5.73  3744.38      11.27  2012  20.27\n",
       "9      5.51  3877.43      11.96  2013  20.37\n",
       "10     5.30  4003.99      12.48  2014  21.67\n",
       "11     4.65  4150.88      12.82  2015  25.06\n",
       "12     4.37  4290.52      13.40  2016  24.55"
      ]
     },
     "execution_count": 8,
     "metadata": {},
     "output_type": "execute_result"
    }
   ],
   "source": [
    "df = pd.DataFrame(baza)\n",
    "df"
   ]
  },
  {
   "cell_type": "markdown",
   "metadata": {},
   "source": [
    "Sprawdzamy dla jakich lat występowało ryzyko alkoholizmu(cena pół litra wódki poniżej 20zł):\n",
    "* Pobieramy kolumnę z cenami wódki\n",
    "* Zapisujemy lata w których cena była poniżej 20zł\n",
    "* Tworzymy nowy dataframe\n",
    "* Prezentujemy kolumnę z latami w których występuje ryzyko alkoholizmu"
   ]
  },
  {
   "cell_type": "code",
   "execution_count": 12,
   "metadata": {},
   "outputs": [
    {
     "data": {
      "text/html": [
       "<div>\n",
       "<style scoped>\n",
       "    .dataframe tbody tr th:only-of-type {\n",
       "        vertical-align: middle;\n",
       "    }\n",
       "\n",
       "    .dataframe tbody tr th {\n",
       "        vertical-align: top;\n",
       "    }\n",
       "\n",
       "    .dataframe thead th {\n",
       "        text-align: right;\n",
       "    }\n",
       "</style>\n",
       "<table border=\"1\" class=\"dataframe\">\n",
       "  <thead>\n",
       "    <tr style=\"text-align: right;\">\n",
       "      <th></th>\n",
       "      <th>rok</th>\n",
       "    </tr>\n",
       "  </thead>\n",
       "  <tbody>\n",
       "    <tr>\n",
       "      <th>1</th>\n",
       "      <td>2005</td>\n",
       "    </tr>\n",
       "    <tr>\n",
       "      <th>2</th>\n",
       "      <td>2006</td>\n",
       "    </tr>\n",
       "    <tr>\n",
       "      <th>3</th>\n",
       "      <td>2007</td>\n",
       "    </tr>\n",
       "    <tr>\n",
       "      <th>4</th>\n",
       "      <td>2008</td>\n",
       "    </tr>\n",
       "    <tr>\n",
       "      <th>5</th>\n",
       "      <td>2009</td>\n",
       "    </tr>\n",
       "    <tr>\n",
       "      <th>6</th>\n",
       "      <td>2010</td>\n",
       "    </tr>\n",
       "    <tr>\n",
       "      <th>7</th>\n",
       "      <td>2011</td>\n",
       "    </tr>\n",
       "  </tbody>\n",
       "</table>\n",
       "</div>"
      ],
      "text/plain": [
       "    rok\n",
       "1  2005\n",
       "2  2006\n",
       "3  2007\n",
       "4  2008\n",
       "5  2009\n",
       "6  2010\n",
       "7  2011"
      ]
     },
     "execution_count": 12,
     "metadata": {},
     "output_type": "execute_result"
    }
   ],
   "source": [
    "cena_wodki = df['wodka']\n",
    "tania = cena_wodki < 20\n",
    "alkoholizm = df[tania]\n",
    "alkoholizm[['rok']]"
   ]
  },
  {
   "cell_type": "markdown",
   "metadata": {},
   "source": [
    "Sprawdźmy na wykresie czy występują jakieś zależności pomiędzy analizowanymi wartościami. Czy ceny za poszczególne produkty wzrastały równomiernie?\n",
    "* Wyznaczamy rozmiar wykresu\n",
    "* Wybieramy dataframe które zaprezentujemy na wykresie\n",
    "* Dodajemy legendę do wykresu\n",
    "* Dodajemy opis do osi Y\n",
    "* Prezentujemy wykres"
   ]
  },
  {
   "cell_type": "code",
   "execution_count": 15,
   "metadata": {},
   "outputs": [
    {
     "data": {
      "image/png": "[encoded data removed]",
      "text/plain": [
       "<matplotlib.figure.Figure at 0x1c268e62710>"
      ]
     },
     "metadata": {},
     "output_type": "display_data"
    }
   ],
   "source": [
    "plt.figure(figsize=(10,10))\n",
    "\n",
    "plt.plot(df['wodka'])\n",
    "plt.plot(df['papierosy'])\n",
    "plt.plot(df['benzyna'])\n",
    "\n",
    "plt.legend(['Cena wódki', 'Cena papierosów', 'Cena benzyny'], loc='upper left')\n",
    "\n",
    "plt.ylabel('Wartości w PLN')\n",
    "\n",
    "plt.show()"
   ]
  },
  {
   "cell_type": "markdown",
   "metadata": {},
   "source": [
    "Ciekawie wydaje się wyglądać zależność pomiędzy cenami używek, wódki i papierosów. Sprawdźmy jak na przestrzeni lat wyglądała zdolność do zakupu używek przez osobę ze średnią pensją krajową\n",
    "* Dla czytelności zmieniamy rozmiar wykresu\n",
    "* Dodajemy wartość dochodów w danym roku, podzieloną przez śednią cenę 0.5 litra wódki\n",
    "* To samo dla paczki papierosów\n",
    "* Dodajemy legendę\n",
    "* Dodaje opisy do osi X i Y\n",
    "* Tworzymy nową listę tick_value\n",
    "* Ustawiamy ilość jej elementów na długość dataframeu rok\n",
    "* Zapisujemy wartości df rok do zmiennej tick_label\n",
    "* Dodajemy ilość i opisy do poszczególnych punktów na osi X\n",
    "* I pokazujemy wykres"
   ]
  },
  {
   "cell_type": "code",
   "execution_count": 26,
   "metadata": {},
   "outputs": [
    {
     "data": {
      "image/png": "[encoded data removed]",
      "text/plain": [
       "<matplotlib.figure.Figure at 0x1c269db5240>"
      ]
     },
     "metadata": {},
     "output_type": "display_data"
    }
   ],
   "source": [
    "plt.figure(figsize=(10,10))\n",
    "\n",
    "plt.plot(df['dochod']/df['wodka'])\n",
    "plt.plot(df['dochod']/df['papierosy'])\n",
    "\n",
    "plt.legend(['Butelki wódki', 'Paczki papierosów'], loc='upper left')\n",
    "\n",
    "plt.ylabel('Ilość do kupienia w miesiącu')\n",
    "plt.xlabel('Lata')\n",
    "\n",
    "tick_value=[]\n",
    "tick_value= range(len(df['rok']))\n",
    "tick_label=df['rok']\n",
    "\n",
    "plt.xticks(tick_value, tick_label)\n",
    "\n",
    "plt.show()"
   ]
  },
  {
   "cell_type": "markdown",
   "metadata": {},
   "source": [
    "Widać więc, że na przestrzeni lat możliwości zakupu przez osobę o średniej krajowej:\n",
    "* alkoholu wzrosły o 50%, \n",
    "* papierosów zmalały o 40%."
   ]
  },
  {
   "cell_type": "code",
   "execution_count": null,
   "metadata": {},
   "outputs": [],
   "source": []
  }
 ],
 "metadata": {
  "kernelspec": {
   "display_name": "Python 3",
   "language": "python",
   "name": "python3"
  },
  "language_info": {
   "codemirror_mode": {
    "name": "ipython",
    "version": 3
   },
   "file_extension": ".py",
   "mimetype": "text/x-python",
   "name": "python",
   "nbconvert_exporter": "python",
   "pygments_lexer": "ipython3",
   "version": "3.6.4"
  }
 },
 "nbformat": 4,
 "nbformat_minor": 2
}
